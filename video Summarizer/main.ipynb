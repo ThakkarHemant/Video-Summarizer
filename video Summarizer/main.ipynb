{
 "cells": [
  {
   "cell_type": "code",
   "execution_count": 5,
   "metadata": {},
   "outputs": [
    {
     "name": "stdout",
     "output_type": "stream",
     "text": [
      "Importing the dtw module. When using in academic works please cite:\n",
      "  T. Giorgino. Computing and Visualizing Dynamic Time Warping Alignments in R: The dtw Package.\n",
      "  J. Stat. Soft., doi:10.18637/jss.v031.i07.\n",
      "\n",
      "[youtube] Extracting URL: https://youtu.be/CXZtVoQ0gqs?si=GXjDG2NE2ywzTdQk\n",
      "[youtube] CXZtVoQ0gqs: Downloading webpage\n",
      "[youtube] CXZtVoQ0gqs: Downloading tv client config\n",
      "[youtube] CXZtVoQ0gqs: Downloading player 9c6dfc4a\n",
      "[youtube] CXZtVoQ0gqs: Downloading tv player API JSON\n",
      "[youtube] CXZtVoQ0gqs: Downloading ios player API JSON\n",
      "[youtube] CXZtVoQ0gqs: Downloading m3u8 information\n",
      "[info] CXZtVoQ0gqs: Downloading 1 format(s): 398+140\n",
      "[download] video.mp4 has already been downloaded\n",
      "{'video_found': True, 'audio_found': True, 'metadata': {'major_brand': 'isom', 'minor_version': '512', 'compatible_brands': 'isomav01iso2mp41', 'encoder': 'Lavf61.9.107'}, 'inputs': [{'streams': [{'input_number': 0, 'stream_number': 0, 'stream_type': 'video', 'language': None, 'default': True, 'size': [1280, 720], 'bitrate': 1458, 'fps': 29.97002997002997, 'codec_name': 'av1', 'profile': '(libaom-av1)', 'metadata': {'Metadata': '', 'handler_name': 'ISO Media file produced by Google Inc.', 'vendor_id': '[0][0][0][0]'}}, {'input_number': 0, 'stream_number': 1, 'stream_type': 'audio', 'language': 'eng', 'default': True, 'fps': 44100, 'bitrate': 128, 'metadata': {'Metadata': '', 'handler_name': 'ISO Media file produced by Google Inc.', 'vendor_id': '[0][0][0][0]'}}], 'input_number': 0}], 'duration': 30.09, 'bitrate': 1590, 'start': 0.0, 'default_video_input_number': 0, 'default_video_stream_number': 0, 'video_codec_name': 'av1', 'video_profile': '(libaom-av1)', 'video_size': [1280, 720], 'video_bitrate': 1458, 'video_fps': 29.97002997002997, 'default_audio_input_number': 0, 'default_audio_stream_number': 1, 'audio_fps': 44100, 'audio_bitrate': 128, 'video_duration': 30.09, 'video_n_frames': 901}\n",
      "C:\\Users\\Admin\\AppData\\Local\\Packages\\PythonSoftwareFoundation.Python.3.11_qbz5n2kfra8p0\\LocalCache\\local-packages\\Python311\\site-packages\\imageio_ffmpeg\\binaries\\ffmpeg-win-x86_64-v7.1.exe -i video.mp4 -loglevel error -f image2pipe -vf scale=1280:720 -sws_flags bicubic -pix_fmt rgb24 -vcodec rawvideo -\n",
      "MoviePy - Writing audio in audio.wav\n"
     ]
    },
    {
     "name": "stderr",
     "output_type": "stream",
     "text": [
      "                                                                    \r"
     ]
    },
    {
     "name": "stdout",
     "output_type": "stream",
     "text": [
      "MoviePy - Done.\n"
     ]
    },
    {
     "name": "stderr",
     "output_type": "stream",
     "text": [
      "100%|███████████████████████████████████████| 139M/139M [01:54<00:00, 1.27MiB/s]\n",
      "C:\\Users\\Admin\\AppData\\Local\\Packages\\PythonSoftwareFoundation.Python.3.11_qbz5n2kfra8p0\\LocalCache\\local-packages\\Python311\\site-packages\\whisper\\transcribe.py:126: UserWarning: FP16 is not supported on CPU; using FP32 instead\n",
      "  warnings.warn(\"FP16 is not supported on CPU; using FP32 instead\")\n",
      "No model was supplied, defaulted to sshleifer/distilbart-cnn-12-6 and revision a4f8f3e (https://huggingface.co/sshleifer/distilbart-cnn-12-6).\n",
      "Using a pipeline without specifying a model name and revision in production is not recommended.\n",
      "Device set to use cpu\n",
      "Your max_length is set to 130, but your input_length is only 113. Since this is a summarization task, where outputs shorter than the input are typically wanted, you might consider decreasing max_length manually, e.g. summarizer('...', max_length=56)\n"
     ]
    },
    {
     "name": "stdout",
     "output_type": "stream",
     "text": [
      "\n",
      "Summary:  Nega. Maybe you got rid of that old yee-yee ass haircut, you got you get some bitches on your dick . Maybe Tunisia called your dog ass, or she ever stopped fucking with that brain surgeon, the lawyer she fucking with . Man, fuck you. I'll see you at work. Oh, don't hate me, because I'm beautiful .\n"
     ]
    }
   ],
   "source": [
    "# Import Libraries\n",
    "from yt_dlp import YoutubeDL\n",
    "from moviepy import VideoFileClip\n",
    "import whisper_timestamped as whisper\n",
    "from transformers import pipeline\n",
    "\n",
    "def download_video(url, output_path=\"video.mp4\"):\n",
    "    \"\"\"\n",
    "    Downloads a YouTube video using yt-dlp.\n",
    "    \"\"\"\n",
    "    ydl_opts = {\n",
    "        'format': 'bestvideo[ext=mp4]+bestaudio[ext=m4a]/best[ext=mp4]/best',  # Download best quality\n",
    "        'outtmpl': output_path,  # Output file name\n",
    "    }\n",
    "    with YoutubeDL(ydl_opts) as ydl:\n",
    "        ydl.download([url])\n",
    "    return output_path\n",
    "\n",
    "def extract_audio(video_path, audio_path=\"audio.wav\"):\n",
    "    \"\"\"\n",
    "    Extracts audio from a video file and saves it as a WAV file.\n",
    "    \"\"\"\n",
    "    video = VideoFileClip(video_path)\n",
    "    video.audio.write_audiofile(audio_path, codec=\"pcm_s16le\")  # Ensuring WAV format\n",
    "    return audio_path\n",
    "\n",
    "def transcribe_audio(audio_path):\n",
    "    \"\"\"\n",
    "    Transcribes audio using Whisper (whisper-timestamped).\n",
    "    \"\"\"\n",
    "    model = whisper.load_model(\"base\")  # You can change to 'small', 'medium', or 'large'\n",
    "    result = model.transcribe(audio_path)\n",
    "    return result[\"text\"]\n",
    "\n",
    "def summarize_text(text, max_length=130, min_length=30):\n",
    "    \"\"\"\n",
    "    Summarizes text using a pre-trained model from Hugging Face Transformers.\n",
    "    \"\"\"\n",
    "    summarizer = pipeline(\"summarization\")\n",
    "    summary = summarizer(text, max_length=max_length, min_length=min_length, do_sample=False)\n",
    "    return summary[0]['summary_text']\n",
    "\n",
    "def summarize_youtube_video(url):\n",
    "    \"\"\"\n",
    "    Summarizes a YouTube video given its URL.\n",
    "    \"\"\"\n",
    "    video_path = download_video(url)\n",
    "    \n",
    "    audio_path = extract_audio(video_path)\n",
    "    \n",
    "    transcript = transcribe_audio(audio_path)\n",
    "    \n",
    "    summary = summarize_text(transcript)\n",
    "    \n",
    "    return summary\n",
    "\n",
    "# Example usage\n",
    "video_url = \"https://youtu.be/CXZtVoQ0gqs?si=GXjDG2NE2ywzTdQk\" \n",
    "summary = summarize_youtube_video(video_url)\n",
    "print(\"\\nSummary:\", summary)\n"
   ]
  }
 ],
 "metadata": {
  "kernelspec": {
   "display_name": "Python 3",
   "language": "python",
   "name": "python3"
  },
  "language_info": {
   "codemirror_mode": {
    "name": "ipython",
    "version": 3
   },
   "file_extension": ".py",
   "mimetype": "text/x-python",
   "name": "python",
   "nbconvert_exporter": "python",
   "pygments_lexer": "ipython3",
   "version": "3.11.9"
  }
 },
 "nbformat": 4,
 "nbformat_minor": 2
}
